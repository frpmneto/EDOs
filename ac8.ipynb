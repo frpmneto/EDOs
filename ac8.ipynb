{
 "cells": [
  {
   "cell_type": "markdown",
   "metadata": {},
   "source": [
    "# AC8\n",
    "\n",
    "## Métodos numéricos\n",
    "\n",
    "## Fernando do Rego Pessoa de Macedo Neto\n",
    "\n",
    "\n",
    "## 1)\n",
    "\n",
    "### sympy laplace transform:"
   ]
  },
  {
   "cell_type": "code",
   "execution_count": 122,
   "metadata": {},
   "outputs": [
    {
     "name": "stdout",
     "output_type": "stream",
     "text": [
      "EDO:\n"
     ]
    },
    {
     "data": {
      "image/png": "[encoded data removed]",
      "text/latex": [
       "$\\displaystyle - y{\\left(t \\right)} + \\frac{d}{d t} y{\\left(t \\right)}$"
      ],
      "text/plain": [
       "        d       \n",
       "-y(t) + ──(y(t))\n",
       "        dt      "
      ]
     },
     "metadata": {},
     "output_type": "display_data"
    },
    {
     "name": "stdout",
     "output_type": "stream",
     "text": [
      "transformada da EDO:\n"
     ]
    },
    {
     "data": {
      "image/png": "[encoded data removed]",
      "text/latex": [
       "$\\displaystyle \\left[ \\frac{1}{s - 1}\\right]$"
      ],
      "text/plain": [
       "⎡  1  ⎤\n",
       "⎢─────⎥\n",
       "⎣s - 1⎦"
      ]
     },
     "metadata": {},
     "output_type": "display_data"
    },
    {
     "name": "stdout",
     "output_type": "stream",
     "text": [
      "solucao da EDO:\n"
     ]
    },
    {
     "data": {
      "image/png": "[encoded data removed]",
      "text/latex": [
       "$\\displaystyle e^{t}$"
      ],
      "text/plain": [
       " t\n",
       "ℯ "
      ]
     },
     "metadata": {},
     "output_type": "display_data"
    }
   ],
   "source": [
    "import numpy as np\n",
    "from scipy import integrate\n",
    "import matplotlib.pyplot as plt\n",
    "import matplotlib as mpl\n",
    "mpl.rcParams['mathtext.fontset'] = 'stix'\n",
    "mpl.rcParams['font.family'] = 'serif'\n",
    "mpl.rcParams['font.sans-serif'] = 'stix'\n",
    "import sympy\n",
    "\n",
    "\n",
    "####################################### fazendo a regra da transformada da derivada ###########################################\n",
    "def laplace_transform_derivatives(e):\n",
    "    if isinstance(e, sympy.LaplaceTransform):\n",
    "        if isinstance(e.args[0], sympy.Derivative):\n",
    "            d, t, s = e.args\n",
    "            n = d.args[1][1]\n",
    "            return ((s**n) * sympy.LaplaceTransform(d.args[0], t, s) - \n",
    "                    sum([s**(n-i) * sympy.diff(d.args[0], t, i-1).subs(t, 0)\n",
    "                         for i in range(1, n+1)]))\n",
    "        \n",
    "    if isinstance(e, (sympy.Add, sympy.Mul)):\n",
    "        t = type(e)\n",
    "        return t(*[laplace_transform_derivatives(arg) for arg in e.args])\n",
    "    \n",
    "    return e\n",
    "\n",
    "################################################## inicializando a EDO #######################################################\n",
    "sympy.init_printing()\n",
    "t = sympy.symbols(\"t\", positive=True)\n",
    "y = sympy.Function(\"y\")\n",
    "edo = y(t).diff(t) - y(t)\n",
    "print(\"EDO:\")\n",
    "display(edo)\n",
    "s, Y = sympy.symbols(\"s, Y\", real=True)\n",
    "L_y = sympy.laplace_transform(y(t), t, s)\n",
    "################################################## transformando a EDO #######################################################\n",
    "L_edo = sympy.laplace_transform(edo, t, s, noconds=True)\n",
    "L_edo = laplace_transform_derivatives(L_edo)\n",
    "L_edo = L_edo.subs(L_y, Y)\n",
    "init = {y(0): 1}\n",
    "L_edo = L_edo.subs(init)\n",
    "#################################################### resolvendo a EDO ########################################################\n",
    "L_edo = sympy.solve(L_edo, Y)\n",
    "print(\"transformada da EDO:\")\n",
    "display(L_edo)\n",
    "################################################## transformando a EDO #######################################################\n",
    "sympy.apart(L_edo[0])\n",
    "res = sympy.inverse_laplace_transform(L_edo[0], s, t)\n",
    "sympy.simplify(res)\n",
    "print(\"solucao da EDO:\")\n",
    "display(res)"
   ]
  },
  {
   "cell_type": "markdown",
   "metadata": {},
   "source": [
    "### sympy dsolve:"
   ]
  },
  {
   "cell_type": "code",
   "execution_count": 130,
   "metadata": {},
   "outputs": [
    {
     "name": "stdout",
     "output_type": "stream",
     "text": [
      "EDO:\n"
     ]
    },
    {
     "data": {
      "image/png": "[encoded data removed]",
      "text/latex": [
       "$\\displaystyle - y{\\left(t \\right)} + \\frac{d}{d t} y{\\left(t \\right)}$"
      ],
      "text/plain": [
       "        d       \n",
       "-y(t) + ──(y(t))\n",
       "        dt      "
      ]
     },
     "metadata": {},
     "output_type": "display_data"
    },
    {
     "name": "stdout",
     "output_type": "stream",
     "text": [
      "solucao:\n"
     ]
    },
    {
     "data": {
      "image/png": "[encoded data removed]",
      "text/latex": [
       "$\\displaystyle y{\\left(t \\right)} = C_{1} e^{t}$"
      ],
      "text/plain": [
       "           t\n",
       "y(t) = C₁⋅ℯ "
      ]
     },
     "metadata": {},
     "output_type": "display_data"
    },
    {
     "name": "stdout",
     "output_type": "stream",
     "text": [
      "C1:\n"
     ]
    },
    {
     "data": {
      "image/png": "[encoded data removed]",
      "text/latex": [
       "$\\displaystyle \\left\\{ C_{1} : y{\\left(t \\right)} e^{- t}\\right\\}$"
      ],
      "text/plain": [
       "⎧          -t⎫\n",
       "⎨C₁: y(t)⋅ℯ  ⎬\n",
       "⎩            ⎭"
      ]
     },
     "metadata": {},
     "output_type": "display_data"
    },
    {
     "name": "stdout",
     "output_type": "stream",
     "text": [
      "e como y(t) = exp(t), C1 = 1 \n",
      "\n",
      "solucao:\n"
     ]
    },
    {
     "data": {
      "image/png": "[encoded data removed]",
      "text/latex": [
       "$\\displaystyle e^{t}$"
      ],
      "text/plain": [
       " t\n",
       "ℯ "
      ]
     },
     "metadata": {},
     "output_type": "display_data"
    }
   ],
   "source": [
    "import numpy as np\n",
    "import matplotlib.pyplot as plt\n",
    "import matplotlib as mpl\n",
    "from scipy import integrate\n",
    "import sympy\n",
    "\n",
    "y0, t= sympy.symbols(\"y0, t\")\n",
    "y = sympy.Function(\"y\")\n",
    "edo = y(t).diff(t) - y(t)\n",
    "print(\"EDO:\")\n",
    "display(edo)\n",
    "res = sympy.dsolve(edo)\n",
    "print(\"solucao:\")\n",
    "display(res)\n",
    "ini = {y(0): y0}\n",
    "constante = res.subs(t, 0).subs(ini)\n",
    "constante = sympy.solve(constante)\n",
    "res.subs(constante[0])\n",
    "constante = sympy.solve(res)\n",
    "print(\"C1:\")\n",
    "display(constante[0])\n",
    "print(\"e como y(t) = exp(t), C1 = 1 \\n\")\n",
    "print(\"solucao:\")\n",
    "final = sympy.exp(t)\n",
    "display(final)"
   ]
  },
  {
   "cell_type": "markdown",
   "metadata": {},
   "source": [
    "### odeint:"
   ]
  },
  {
   "cell_type": "code",
   "execution_count": 107,
   "metadata": {},
   "outputs": [
    {
     "data": {
      "image/png": "[encoded data removed]",
      "text/plain": [
       "<Figure size 288x288 with 1 Axes>"
      ]
     },
     "metadata": {
      "needs_background": "light"
     },
     "output_type": "display_data"
    }
   ],
   "source": [
    "import numpy as np\n",
    "from scipy import integrate\n",
    "import matplotlib.pyplot as plt\n",
    "import matplotlib as mpl\n",
    "mpl.rcParams['mathtext.fontset'] = 'stix'\n",
    "mpl.rcParams['font.family'] = 'serif'\n",
    "mpl.rcParams['font.sans-serif'] = 'stix'\n",
    "import sympy\n",
    "################################################## inicializando a EDO #######################################################\n",
    "t = sympy.symbols(\"t\")\n",
    "y = sympy.Function(\"y\")\n",
    "f = y(t)\n",
    "f_np = sympy.lambdify((y(t), t), f, 'math')\n",
    "y0 = 1\n",
    "xp = np.linspace(0, 1.9, 100)\n",
    "yp = integrate.odeint(f_np, y0, xp)\n",
    "xm = np.linspace(0, -5, 100)\n",
    "ym = integrate.odeint(f_np, y0, xm)\n",
    "fig, ax = plt.subplots(1, 1, figsize=(4, 4))\n",
    "################################################## plotando os graficos #######################################################\n",
    "ax.plot(xm, ym, 'b', lw=2)\n",
    "ax.plot(xp, yp, 'r', lw=2)\n",
    "fig.tight_layout()\n",
    "plt.show()"
   ]
  },
  {
   "cell_type": "markdown",
   "metadata": {},
   "source": [
    "## 2)\n",
    "\n",
    "### sympy laplace transform:"
   ]
  },
  {
   "cell_type": "code",
   "execution_count": 118,
   "metadata": {},
   "outputs": [
    {
     "name": "stdout",
     "output_type": "stream",
     "text": [
      "EDO:\n"
     ]
    },
    {
     "data": {
      "image/png": "[encoded data removed]",
      "text/latex": [
       "$\\displaystyle \\frac{d}{d t} y{\\left(t \\right)} - 1$"
      ],
      "text/plain": [
       "d           \n",
       "──(y(t)) - 1\n",
       "dt          "
      ]
     },
     "metadata": {},
     "output_type": "display_data"
    },
    {
     "name": "stdout",
     "output_type": "stream",
     "text": [
      "transformada da EDO:\n"
     ]
    },
    {
     "data": {
      "image/png": "[encoded data removed]",
      "text/latex": [
       "$\\displaystyle \\left[ \\frac{4 s + 1}{s^{2}}\\right]$"
      ],
      "text/plain": [
       "⎡4⋅s + 1⎤\n",
       "⎢───────⎥\n",
       "⎢    2  ⎥\n",
       "⎣   s   ⎦"
      ]
     },
     "metadata": {},
     "output_type": "display_data"
    },
    {
     "name": "stdout",
     "output_type": "stream",
     "text": [
      "solucao da EDO:\n"
     ]
    },
    {
     "data": {
      "image/png": "[encoded data removed]",
      "text/latex": [
       "$\\displaystyle t + 4$"
      ],
      "text/plain": [
       "t + 4"
      ]
     },
     "metadata": {},
     "output_type": "display_data"
    }
   ],
   "source": [
    "import numpy as np\n",
    "from scipy import integrate\n",
    "import matplotlib.pyplot as plt\n",
    "import matplotlib as mpl\n",
    "mpl.rcParams['mathtext.fontset'] = 'stix'\n",
    "mpl.rcParams['font.family'] = 'serif'\n",
    "mpl.rcParams['font.sans-serif'] = 'stix'\n",
    "import sympy\n",
    "\n",
    "\n",
    "####################################### fazendo a regra da transformada da derivada ###########################################\n",
    "def laplace_transform_derivatives(e):\n",
    "    if isinstance(e, sympy.LaplaceTransform):\n",
    "        if isinstance(e.args[0], sympy.Derivative):\n",
    "            d, t, s = e.args\n",
    "            n = d.args[1][1]\n",
    "            return ((s**n) * sympy.LaplaceTransform(d.args[0], t, s) - \n",
    "                    sum([s**(n-i) * sympy.diff(d.args[0], t, i-1).subs(t, 0)\n",
    "                         for i in range(1, n+1)]))\n",
    "        \n",
    "    if isinstance(e, (sympy.Add, sympy.Mul)):\n",
    "        t = type(e)\n",
    "        return t(*[laplace_transform_derivatives(arg) for arg in e.args])\n",
    "    \n",
    "    return e\n",
    "\n",
    "################################################## inicializando a EDO #######################################################\n",
    "sympy.init_printing()\n",
    "t = sympy.symbols(\"t\", positive=True)\n",
    "y = sympy.Function(\"y\")\n",
    "edo = y(t).diff(t) - 1\n",
    "print(\"EDO:\")\n",
    "display(edo)\n",
    "s, Y = sympy.symbols(\"s, Y\", real=True)\n",
    "L_y = sympy.laplace_transform(y(t), t, s)\n",
    "################################################## transformando a EDO #######################################################\n",
    "L_edo = sympy.laplace_transform(edo, t, s, noconds=True)\n",
    "L_edo = laplace_transform_derivatives(L_edo)\n",
    "L_edo = L_edo.subs(L_y, Y)\n",
    "init = {y(0): 4}\n",
    "L_edo = L_edo.subs(init)\n",
    "#################################################### resolvendo a EDO ########################################################\n",
    "L_edo = sympy.solve(L_edo, Y)\n",
    "print(\"transformada da EDO:\")\n",
    "display(L_edo)\n",
    "################################################## transformando a EDO #######################################################\n",
    "sympy.apart(L_edo[0])\n",
    "res = sympy.inverse_laplace_transform(L_edo[0], s, t)\n",
    "sympy.simplify(res)\n",
    "print(\"solucao da EDO:\")\n",
    "display(res)"
   ]
  },
  {
   "cell_type": "markdown",
   "metadata": {},
   "source": [
    "### dsolve:"
   ]
  },
  {
   "cell_type": "code",
   "execution_count": 138,
   "metadata": {},
   "outputs": [
    {
     "name": "stdout",
     "output_type": "stream",
     "text": [
      "EDO:\n"
     ]
    },
    {
     "data": {
      "image/png": "[encoded data removed]",
      "text/latex": [
       "$\\displaystyle \\frac{d}{d t} y{\\left(t \\right)} - 1$"
      ],
      "text/plain": [
       "d           \n",
       "──(y(t)) - 1\n",
       "dt          "
      ]
     },
     "metadata": {},
     "output_type": "display_data"
    },
    {
     "name": "stdout",
     "output_type": "stream",
     "text": [
      "solucao:\n"
     ]
    },
    {
     "data": {
      "image/png": "[encoded data removed]",
      "text/latex": [
       "$\\displaystyle y{\\left(t \\right)} = C_{1} + t$"
      ],
      "text/plain": [
       "y(t) = C₁ + t"
      ]
     },
     "metadata": {},
     "output_type": "display_data"
    },
    {
     "name": "stdout",
     "output_type": "stream",
     "text": [
      "Constante:\n"
     ]
    },
    {
     "data": {
      "image/png": "[encoded data removed]",
      "text/latex": [
       "$\\displaystyle \\left\\{ C_{1} : - t + y{\\left(t \\right)}\\right\\}$"
      ],
      "text/plain": [
       "{C₁: -t + y(t)}"
      ]
     },
     "metadata": {},
     "output_type": "display_data"
    },
    {
     "name": "stdout",
     "output_type": "stream",
     "text": [
      "e como y0 = 4, y(t) =\n"
     ]
    },
    {
     "data": {
      "image/png": "[encoded data removed]",
      "text/latex": [
       "$\\displaystyle t + 4$"
      ],
      "text/plain": [
       "t + 4"
      ]
     },
     "metadata": {},
     "output_type": "display_data"
    }
   ],
   "source": [
    "import numpy as np\n",
    "import matplotlib.pyplot as plt\n",
    "import matplotlib as mpl\n",
    "from scipy import integrate\n",
    "import sympy\n",
    "y0, t= sympy.symbols(\"y0, t\")\n",
    "y = sympy.Function(\"y\")\n",
    "edo = y(t).diff(t) - 1\n",
    "print(\"EDO:\")\n",
    "display(edo)\n",
    "res = sympy.dsolve(edo)\n",
    "print(\"solucao:\")\n",
    "display(res)\n",
    "ini = {y(0): y0}\n",
    "constante = res.subs(t, 0).subs(ini)\n",
    "constante = sympy.solve(constante)\n",
    "res.subs(constante[0])\n",
    "constante = sympy.solve(res)\n",
    "print(\"Constante:\")\n",
    "display(constante[0])\n",
    "print(\"e como y0 = 4, y(t) =\")\n",
    "a = 4 + t \n",
    "display(a)"
   ]
  },
  {
   "cell_type": "markdown",
   "metadata": {},
   "source": [
    "### odeint:"
   ]
  },
  {
   "cell_type": "code",
   "execution_count": 63,
   "metadata": {},
   "outputs": [
    {
     "data": {
      "image/png": "[encoded data removed]",
      "text/plain": [
       "<Figure size 288x288 with 1 Axes>"
      ]
     },
     "metadata": {
      "needs_background": "light"
     },
     "output_type": "display_data"
    }
   ],
   "source": [
    "import numpy as np\n",
    "from scipy import integrate\n",
    "import matplotlib.pyplot as plt\n",
    "import matplotlib as mpl\n",
    "mpl.rcParams['mathtext.fontset'] = 'stix'\n",
    "mpl.rcParams['font.family'] = 'serif'\n",
    "mpl.rcParams['font.sans-serif'] = 'stix'\n",
    "import sympy\n",
    "################################################## inicializando a EDO #######################################################\n",
    "t = sympy.symbols(\"t\")\n",
    "y = sympy.Function(\"y\")\n",
    "f = 1\n",
    "f_np = sympy.lambdify((y(t), t), f, 'math')\n",
    "y0 = 4\n",
    "xp = np.linspace(0, 1.9, 100)\n",
    "yp = integrate.odeint(f_np, y0, xp)\n",
    "xm = np.linspace(0, -5, 100)\n",
    "ym = integrate.odeint(f_np, y0, xm)\n",
    "fig, ax = plt.subplots(1, 1, figsize=(4, 4))\n",
    "################################################## plotando os graficos #######################################################\n",
    "ax.plot(xm, ym, 'b', lw=2)\n",
    "ax.plot(xp, yp, 'r', lw=2)\n",
    "fig.tight_layout()\n",
    "plt.show()"
   ]
  },
  {
   "cell_type": "markdown",
   "metadata": {},
   "source": [
    "## 3)\n",
    "### a)\n",
    "### sympy laplace transform:"
   ]
  },
  {
   "cell_type": "code",
   "execution_count": 112,
   "metadata": {},
   "outputs": [
    {
     "name": "stdout",
     "output_type": "stream",
     "text": [
      "EDO:\n"
     ]
    },
    {
     "data": {
      "image/png": "[encoded data removed]",
      "text/latex": [
       "$\\displaystyle - 6 y{\\left(t \\right)} + \\frac{d}{d t} y{\\left(t \\right)} - e^{- t}$"
      ],
      "text/plain": [
       "          d           -t\n",
       "-6⋅y(t) + ──(y(t)) - ℯ  \n",
       "          dt            "
      ]
     },
     "metadata": {},
     "output_type": "display_data"
    },
    {
     "name": "stdout",
     "output_type": "stream",
     "text": [
      "transformada da EDO =>  (2*s + 3)/(s**2 - 5*s - 6) \n",
      "\n",
      "solucao da EDO =>  (15*exp(7*t) - 1)*exp(-t)/7 \n",
      "\n"
     ]
    }
   ],
   "source": [
    "import numpy as np\n",
    "from scipy import integrate\n",
    "import matplotlib.pyplot as plt\n",
    "import matplotlib as mpl\n",
    "mpl.rcParams['mathtext.fontset'] = 'stix'\n",
    "mpl.rcParams['font.family'] = 'serif'\n",
    "mpl.rcParams['font.sans-serif'] = 'stix'\n",
    "import sympy\n",
    "\n",
    "\n",
    "####################################### fazendo a regra da transformada da derivada ###########################################\n",
    "def laplace_transform_derivatives(e):\n",
    "    if isinstance(e, sympy.LaplaceTransform):\n",
    "        if isinstance(e.args[0], sympy.Derivative):\n",
    "            d, t, s = e.args\n",
    "            n = d.args[1][1]\n",
    "            return ((s**n) * sympy.LaplaceTransform(d.args[0], t, s) - \n",
    "                    sum([s**(n-i) * sympy.diff(d.args[0], t, i-1).subs(t, 0)\n",
    "                         for i in range(1, n+1)]))\n",
    "        \n",
    "    if isinstance(e, (sympy.Add, sympy.Mul)):\n",
    "        t = type(e)\n",
    "        return t(*[laplace_transform_derivatives(arg) for arg in e.args])\n",
    "    \n",
    "    return e\n",
    "\n",
    "################################################## inicializando a EDO #######################################################\n",
    "sympy.init_printing()\n",
    "t = sympy.symbols(\"t\", positive=True)\n",
    "y = sympy.Function(\"y\")\n",
    "edo = y(t).diff(t) - 6 * y(t) - sympy.exp(-t)\n",
    "print(\"EDO:\")\n",
    "display(edo)\n",
    "s, Y = sympy.symbols(\"s, Y\", real=True)\n",
    "L_y = sympy.laplace_transform(y(t), t, s)\n",
    "################################################## transformando a EDO #######################################################\n",
    "L_edo = sympy.laplace_transform(edo, t, s, noconds=True)\n",
    "L_edo = laplace_transform_derivatives(L_edo)\n",
    "L_edo = L_edo.subs(L_y, Y)\n",
    "init = {y(0): 2}\n",
    "L_edo = L_edo.subs(init)\n",
    "#################################################### resolvendo a EDO ########################################################\n",
    "L_edo = sympy.solve(L_edo, Y)\n",
    "print(\"transformada da EDO => \",L_edo[0],\"\\n\")\n",
    "################################################## transformando a EDO #######################################################\n",
    "sympy.apart(L_edo[0])\n",
    "res = sympy.inverse_laplace_transform(L_edo[0], s, t)\n",
    "sympy.simplify(res)\n",
    "print(\"solucao da EDO => \",res,\"\\n\")"
   ]
  },
  {
   "cell_type": "markdown",
   "metadata": {},
   "source": [
    "### dsolve:"
   ]
  },
  {
   "cell_type": "code",
   "execution_count": 143,
   "metadata": {},
   "outputs": [
    {
     "name": "stdout",
     "output_type": "stream",
     "text": [
      "EDO:\n"
     ]
    },
    {
     "data": {
      "image/png": "[encoded data removed]",
      "text/latex": [
       "$\\displaystyle - 6 y{\\left(t \\right)} + \\frac{d}{d t} y{\\left(t \\right)} - e^{- t}$"
      ],
      "text/plain": [
       "          d           -t\n",
       "-6⋅y(t) + ──(y(t)) - ℯ  \n",
       "          dt            "
      ]
     },
     "metadata": {},
     "output_type": "display_data"
    },
    {
     "name": "stdout",
     "output_type": "stream",
     "text": [
      "solucao:\n"
     ]
    },
    {
     "data": {
      "image/png": "[encoded data removed]",
      "text/latex": [
       "$\\displaystyle y{\\left(t \\right)} = \\left(C_{1} - \\frac{e^{- 7 t}}{7}\\right) e^{6 t}$"
      ],
      "text/plain": [
       "       ⎛      -7⋅t⎞     \n",
       "       ⎜     ℯ    ⎟  6⋅t\n",
       "y(t) = ⎜C₁ - ─────⎟⋅ℯ   \n",
       "       ⎝       7  ⎠     "
      ]
     },
     "metadata": {},
     "output_type": "display_data"
    },
    {
     "name": "stdout",
     "output_type": "stream",
     "text": [
      "Constante:\n"
     ]
    },
    {
     "data": {
      "image/png": "[encoded data removed]",
      "text/latex": [
       "$\\displaystyle \\left\\{ C_{1} : \\left(y{\\left(t \\right)} e^{t} + \\frac{1}{7}\\right) e^{- 7 t}\\right\\}$"
      ],
      "text/plain": [
       "⎧    ⎛      t   1⎞  -7⋅t⎫\n",
       "⎨C₁: ⎜y(t)⋅ℯ  + ─⎟⋅ℯ    ⎬\n",
       "⎩    ⎝          7⎠      ⎭"
      ]
     },
     "metadata": {},
     "output_type": "display_data"
    }
   ],
   "source": [
    "import numpy as np\n",
    "import matplotlib.pyplot as plt\n",
    "import matplotlib as mpl\n",
    "from scipy import integrate\n",
    "import sympy\n",
    "\n",
    "y0, t= sympy.symbols(\"y0, t\")\n",
    "y = sympy.Function(\"y\")\n",
    "edo = y(t).diff(t) - 6 * y(t) - sympy.exp(-t)\n",
    "print(\"EDO:\")\n",
    "display(edo)\n",
    "res = sympy.dsolve(edo)\n",
    "print(\"solucao:\")\n",
    "display(res)\n",
    "ini = {y(0): y0}\n",
    "constante = res.subs(t, 0).subs(ini)\n",
    "constante = sympy.solve(constante)\n",
    "res.subs(constante[0])\n",
    "constante = sympy.solve(res)\n",
    "print(\"Constante:\")\n",
    "display(constante[0])"
   ]
  },
  {
   "cell_type": "markdown",
   "metadata": {},
   "source": [
    "### odeint"
   ]
  },
  {
   "cell_type": "code",
   "execution_count": 80,
   "metadata": {},
   "outputs": [
    {
     "data": {
      "image/png": "[encoded data removed]",
      "text/plain": [
       "<Figure size 288x288 with 1 Axes>"
      ]
     },
     "metadata": {
      "needs_background": "light"
     },
     "output_type": "display_data"
    }
   ],
   "source": [
    "import numpy as np\n",
    "from scipy import integrate\n",
    "import matplotlib.pyplot as plt\n",
    "import matplotlib as mpl\n",
    "mpl.rcParams['mathtext.fontset'] = 'stix'\n",
    "mpl.rcParams['font.family'] = 'serif'\n",
    "mpl.rcParams['font.sans-serif'] = 'stix'\n",
    "import sympy\n",
    "################################################## inicializando a EDO #######################################################\n",
    "t = sympy.symbols(\"t\")\n",
    "y = sympy.Function(\"y\")\n",
    "f = 6 * y(t) + sympy.exp(-t)\n",
    "f_np = sympy.lambdify((y(t), t), f, 'math')\n",
    "y0 = 0\n",
    "xp = np.linspace(0, 1.9, 100)\n",
    "yp = integrate.odeint(f_np, y0, xp)\n",
    "xm = np.linspace(0, -5, 100)\n",
    "ym = integrate.odeint(f_np, y0, xm)\n",
    "fig, ax = plt.subplots(1, 1, figsize=(4, 4))\n",
    "################################################## plotando os graficos #######################################################\n",
    "ax.plot(xm, ym, 'b', lw=2)\n",
    "ax.plot(xp, yp, 'r', lw=2)\n",
    "fig.tight_layout()\n",
    "plt.show()"
   ]
  },
  {
   "cell_type": "markdown",
   "metadata": {},
   "source": [
    "### b)\n",
    "### sympy laplace transform:"
   ]
  },
  {
   "cell_type": "code",
   "execution_count": 146,
   "metadata": {},
   "outputs": [
    {
     "name": "stdout",
     "output_type": "stream",
     "text": [
      "EDO:\n"
     ]
    },
    {
     "data": {
      "image/png": "[encoded data removed]",
      "text/latex": [
       "$\\displaystyle 9 y{\\left(t \\right)} + \\frac{d^{2}}{d t^{2}} y{\\left(t \\right)} - 1$"
      ],
      "text/plain": [
       "           2          \n",
       "          d           \n",
       "9⋅y(t) + ───(y(t)) - 1\n",
       "           2          \n",
       "         dt           "
      ]
     },
     "metadata": {},
     "output_type": "display_data"
    },
    {
     "name": "stdout",
     "output_type": "stream",
     "text": [
      "transformada da EDO:\n"
     ]
    },
    {
     "data": {
      "image/png": "[encoded data removed]",
      "text/latex": [
       "$\\displaystyle \\left[ \\frac{1}{s \\left(s^{2} + 9\\right)}\\right]$"
      ],
      "text/plain": [
       "⎡    1     ⎤\n",
       "⎢──────────⎥\n",
       "⎢  ⎛ 2    ⎞⎥\n",
       "⎣s⋅⎝s  + 9⎠⎦"
      ]
     },
     "metadata": {},
     "output_type": "display_data"
    },
    {
     "name": "stdout",
     "output_type": "stream",
     "text": [
      "solucao da EDO:\n"
     ]
    },
    {
     "data": {
      "image/png": "[encoded data removed]",
      "text/latex": [
       "$\\displaystyle \\frac{1}{9} - \\frac{\\cos{\\left(3 t \\right)}}{9}$"
      ],
      "text/plain": [
       "1   cos(3⋅t)\n",
       "─ - ────────\n",
       "9      9    "
      ]
     },
     "metadata": {},
     "output_type": "display_data"
    }
   ],
   "source": [
    "import numpy as np\n",
    "from scipy import integrate\n",
    "import matplotlib.pyplot as plt\n",
    "import matplotlib as mpl\n",
    "mpl.rcParams['mathtext.fontset'] = 'stix'\n",
    "mpl.rcParams['font.family'] = 'serif'\n",
    "mpl.rcParams['font.sans-serif'] = 'stix'\n",
    "import sympy\n",
    "\n",
    "\n",
    "####################################### fazendo a regra da transformada da derivada ###########################################\n",
    "def laplace_transform_derivatives(e):\n",
    "    if isinstance(e, sympy.LaplaceTransform):\n",
    "        if isinstance(e.args[0], sympy.Derivative):\n",
    "            d, t, s = e.args\n",
    "            n = d.args[1][1]\n",
    "            return ((s**n) * sympy.LaplaceTransform(d.args[0], t, s) - \n",
    "                    sum([s**(n-i) * sympy.diff(d.args[0], t, i-1).subs(t, 0)\n",
    "                         for i in range(1, n+1)]))\n",
    "        \n",
    "    if isinstance(e, (sympy.Add, sympy.Mul)):\n",
    "        t = type(e)\n",
    "        return t(*[laplace_transform_derivatives(arg) for arg in e.args])\n",
    "    \n",
    "    return e\n",
    "\n",
    "################################################## inicializando a EDO #######################################################\n",
    "sympy.init_printing()\n",
    "t = sympy.symbols(\"t\", positive=True)\n",
    "y = sympy.Function(\"y\")\n",
    "edo = y(t).diff(t,2) + 9 * y(t) - 1\n",
    "print(\"EDO:\")\n",
    "display(edo)\n",
    "s, Y = sympy.symbols(\"s, Y\", real=True)\n",
    "L_y = sympy.laplace_transform(y(t), t, s)\n",
    "################################################## transformando a EDO #######################################################\n",
    "L_edo = sympy.laplace_transform(edo, t, s, noconds=True)\n",
    "L_edo = laplace_transform_derivatives(L_edo)\n",
    "L_edo = L_edo.subs(L_y, Y)\n",
    "init = {y(0): 0,y(t).diff(t).subs(t,0): 0}\n",
    "L_edo = L_edo.subs(init)\n",
    "#################################################### resolvendo a EDO ########################################################\n",
    "L_edo = sympy.solve(L_edo, Y)\n",
    "print(\"transformada da EDO:\")\n",
    "display(L_edo)\n",
    "################################################## transformando a EDO #######################################################\n",
    "sympy.apart(L_edo[0])\n",
    "res = sympy.inverse_laplace_transform(L_edo[0], s, t)\n",
    "sympy.simplify(res)\n",
    "print(\"solucao da EDO:\")\n",
    "display(res)"
   ]
  },
  {
   "cell_type": "markdown",
   "metadata": {},
   "source": [
    "### dsolve:"
   ]
  },
  {
   "cell_type": "code",
   "execution_count": 148,
   "metadata": {},
   "outputs": [
    {
     "name": "stdout",
     "output_type": "stream",
     "text": [
      "EDO:\n"
     ]
    },
    {
     "data": {
      "image/png": "[encoded data removed]",
      "text/latex": [
       "$\\displaystyle 9 y{\\left(t \\right)} + \\frac{d^{2}}{d t^{2}} y{\\left(t \\right)} - 1$"
      ],
      "text/plain": [
       "           2          \n",
       "          d           \n",
       "9⋅y(t) + ───(y(t)) - 1\n",
       "           2          \n",
       "         dt           "
      ]
     },
     "metadata": {},
     "output_type": "display_data"
    },
    {
     "name": "stdout",
     "output_type": "stream",
     "text": [
      "solucao:\n"
     ]
    },
    {
     "data": {
      "image/png": "[encoded data removed]",
      "text/latex": [
       "$\\displaystyle y{\\left(t \\right)} = C_{1} \\sin{\\left(3 t \\right)} + C_{2} \\cos{\\left(3 t \\right)} + \\frac{1}{9}$"
      ],
      "text/plain": [
       "y(t) = C₁⋅sin(3⋅t) + C₂⋅cos(3⋅t) + 1/9"
      ]
     },
     "metadata": {},
     "output_type": "display_data"
    },
    {
     "name": "stdout",
     "output_type": "stream",
     "text": [
      "Constante:\n"
     ]
    },
    {
     "data": {
      "image/png": "[encoded data removed]",
      "text/latex": [
       "$\\displaystyle \\left\\{ C_{1} : \\frac{- C_{2} \\cos{\\left(3 t \\right)} + y{\\left(t \\right)} - \\frac{1}{9}}{\\sin{\\left(3 t \\right)}}\\right\\}$"
      ],
      "text/plain": [
       "⎧    -C₂⋅cos(3⋅t) + y(t) - 1/9⎫\n",
       "⎨C₁: ─────────────────────────⎬\n",
       "⎩             sin(3⋅t)        ⎭"
      ]
     },
     "metadata": {},
     "output_type": "display_data"
    }
   ],
   "source": [
    "import numpy as np\n",
    "import matplotlib.pyplot as plt\n",
    "import matplotlib as mpl\n",
    "from scipy import integrate\n",
    "import sympy\n",
    "\n",
    "y0, t= sympy.symbols(\"y0, t\")\n",
    "y = sympy.Function(\"y\")\n",
    "edo = y(t).diff(t,2) + 9 * y(t) - 1\n",
    "print(\"EDO:\")\n",
    "display(edo)\n",
    "res = sympy.dsolve(edo)\n",
    "print(\"solucao:\")\n",
    "display(res)\n",
    "ini = {y(0): y0}\n",
    "constante = res.subs(t, 0).subs(ini)\n",
    "constante = sympy.solve(constante)\n",
    "res.subs(constante[0])\n",
    "constante = sympy.solve(res)\n",
    "print(\"Constante:\")\n",
    "display(constante[0])"
   ]
  }
 ],
 "metadata": {
  "kernelspec": {
   "display_name": "Python 3",
   "language": "python",
   "name": "python3"
  },
  "language_info": {
   "codemirror_mode": {
    "name": "ipython",
    "version": 3
   },
   "file_extension": ".py",
   "mimetype": "text/x-python",
   "name": "python",
   "nbconvert_exporter": "python",
   "pygments_lexer": "ipython3",
   "version": "3.8.3"
  }
 },
 "nbformat": 4,
 "nbformat_minor": 4
}
